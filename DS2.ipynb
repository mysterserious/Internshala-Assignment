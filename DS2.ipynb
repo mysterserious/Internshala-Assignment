{
  "nbformat": 4,
  "nbformat_minor": 0,
  "metadata": {
    "colab": {
      "provenance": []
    },
    "kernelspec": {
      "name": "python3",
      "display_name": "Python 3"
    },
    "language_info": {
      "name": "python"
    }
  },
  "cells": [
    {
      "cell_type": "code",
      "execution_count": 56,
      "metadata": {
        "id": "bkc7qA_fgIt_"
      },
      "outputs": [],
      "source": [
        "import pandas as pd\n",
        "import numpy as np\n",
        "import seaborn as sn\n",
        "import matplotlib.pyplot as plt\n",
        "from sklearn.feature_extraction.text import TfidfVectorizer\n",
        "from sklearn.metrics.pairwise import cosine_similarity"
      ]
    },
    {
      "cell_type": "code",
      "source": [
        "!wget -O ds2.zip https://www.dropbox.com/sh/aypq6h3254207bs/AACzMLvo-XtK9sYAAma6FW0la?dl=0&file_subpath=%2Famz_com-ecommerce_sample.csv&preview=DS+-+Assignment+Part+2+data+set.zip"
      ],
      "metadata": {
        "colab": {
          "base_uri": "https://localhost:8080/"
        },
        "id": "sKMSknoiiWUI",
        "outputId": "2f37a67c-71a4-40ae-a432-930704de1091"
      },
      "execution_count": 2,
      "outputs": [
        {
          "output_type": "stream",
          "name": "stdout",
          "text": [
            "--2022-11-24 12:08:31--  https://www.dropbox.com/sh/aypq6h3254207bs/AACzMLvo-XtK9sYAAma6FW0la?dl=0\n",
            "Resolving www.dropbox.com (www.dropbox.com)... 162.125.5.18, 2620:100:601d:18::a27d:512\n",
            "Connecting to www.dropbox.com (www.dropbox.com)|162.125.5.18|:443... connected.\n",
            "HTTP request sent, awaiting response... 302 Found\n",
            "Location: /sh/raw/aypq6h3254207bs/AACzMLvo-XtK9sYAAma6FW0la [following]\n",
            "--2022-11-24 12:08:32--  https://www.dropbox.com/sh/raw/aypq6h3254207bs/AACzMLvo-XtK9sYAAma6FW0la\n",
            "Reusing existing connection to www.dropbox.com:443.\n",
            "HTTP request sent, awaiting response... 302 Found\n",
            "Location: https://uc0ee8c8fa5864496a468bdfaa19.dl.dropboxusercontent.com/zip_download_get/BUwOb8BjjKv0P-miVA6dsNPdBWPi2-sQjS-eX4VuSPjmwye1P2wC_2HD8le935cuiywQR6Vdr9Ef2zYoagBxpfSFtFvx5GUa7u9dPmoQR4aUTw# [following]\n",
            "--2022-11-24 12:08:33--  https://uc0ee8c8fa5864496a468bdfaa19.dl.dropboxusercontent.com/zip_download_get/BUwOb8BjjKv0P-miVA6dsNPdBWPi2-sQjS-eX4VuSPjmwye1P2wC_2HD8le935cuiywQR6Vdr9Ef2zYoagBxpfSFtFvx5GUa7u9dPmoQR4aUTw\n",
            "Resolving uc0ee8c8fa5864496a468bdfaa19.dl.dropboxusercontent.com (uc0ee8c8fa5864496a468bdfaa19.dl.dropboxusercontent.com)... 162.125.5.15, 2620:100:601d:15::a27d:50f\n",
            "Connecting to uc0ee8c8fa5864496a468bdfaa19.dl.dropboxusercontent.com (uc0ee8c8fa5864496a468bdfaa19.dl.dropboxusercontent.com)|162.125.5.15|:443... connected.\n",
            "HTTP request sent, awaiting response... 200 OK\n",
            "Length: 11994896 (11M) [application/zip]\n",
            "Saving to: ‘ds2.zip’\n",
            "\n",
            "ds2.zip             100%[===================>]  11.44M  27.9MB/s    in 0.4s    \n",
            "\n",
            "2022-11-24 12:08:33 (27.9 MB/s) - ‘ds2.zip’ saved [11994896/11994896]\n",
            "\n"
          ]
        }
      ]
    },
    {
      "cell_type": "code",
      "source": [
        "!unzip ds2.zip"
      ],
      "metadata": {
        "colab": {
          "base_uri": "https://localhost:8080/"
        },
        "id": "2cTfjV9AimkG",
        "outputId": "40dcb799-feec-4f93-8e57-4b86c03e087d"
      },
      "execution_count": 3,
      "outputs": [
        {
          "output_type": "stream",
          "name": "stdout",
          "text": [
            "Archive:  ds2.zip\n",
            "warning:  stripped absolute path spec from /\n",
            "mapname:  conversion of  failed\n",
            " extracting: Data Science Assignment.pdf  \n",
            " extracting: DS - Assignment Part 2 data set.zip  \n",
            " extracting: DS - Assignment Part 1 data set.xlsx  \n"
          ]
        }
      ]
    },
    {
      "cell_type": "code",
      "source": [
        "!unzip '/content/DS - Assignment Part 2 data set.zip'y"
      ],
      "metadata": {
        "colab": {
          "base_uri": "https://localhost:8080/"
        },
        "id": "Wlyt71kCi2rf",
        "outputId": "4aa202e2-fba3-4868-ac5b-e4e441750043"
      },
      "execution_count": 5,
      "outputs": [
        {
          "output_type": "stream",
          "name": "stdout",
          "text": [
            "Archive:  /content/DS - Assignment Part 2 data set.zip\n",
            "  inflating: amz_com-ecommerce_sample.csv  \n",
            "replace flipkart_com-ecommerce_sample.csv? [y]es, [n]o, [A]ll, [N]one, [r]ename: y\n",
            "  inflating: flipkart_com-ecommerce_sample.csv  \n"
          ]
        }
      ]
    },
    {
      "cell_type": "code",
      "source": [
        "flp=pd.read_csv('/content/flipkart_com-ecommerce_sample.csv')\n",
        "amz=pd.read_csv('/content/amz_com-ecommerce_sample.csv',encoding='latin1')"
      ],
      "metadata": {
        "id": "AMAGE5_mjJED"
      },
      "execution_count": 43,
      "outputs": []
    },
    {
      "cell_type": "code",
      "source": [
        "amz.duplicated().sum()"
      ],
      "metadata": {
        "colab": {
          "base_uri": "https://localhost:8080/"
        },
        "id": "SgPabzeQg82_",
        "outputId": "6c32e77b-bee3-4ac7-fe69-7c5391b639f3"
      },
      "execution_count": 72,
      "outputs": [
        {
          "output_type": "execute_result",
          "data": {
            "text/plain": [
              "0"
            ]
          },
          "metadata": {},
          "execution_count": 72
        }
      ]
    },
    {
      "cell_type": "code",
      "source": [
        "flp.head()"
      ],
      "metadata": {
        "colab": {
          "base_uri": "https://localhost:8080/",
          "height": 531
        },
        "id": "v3Y5YrOVk_8i",
        "outputId": "ef0c0fcf-1c92-4877-fea7-01bd5d332ccb"
      },
      "execution_count": 10,
      "outputs": [
        {
          "output_type": "execute_result",
          "data": {
            "text/plain": [
              "                            uniq_id            crawl_timestamp  \\\n",
              "0  c2d766ca982eca8304150849735ffef9  2016-03-25 22:59:23 +0000   \n",
              "1  7f7036a6d550aaa89d34c77bd39a5e48  2016-03-25 22:59:23 +0000   \n",
              "2  f449ec65dcbc041b6ae5e6a32717d01b  2016-03-25 22:59:23 +0000   \n",
              "3  0973b37acd0c664e3de26e97e5571454  2016-03-25 22:59:23 +0000   \n",
              "4  bc940ea42ee6bef5ac7cea3fb5cfbee7  2016-03-25 22:59:23 +0000   \n",
              "\n",
              "                                         product_url  \\\n",
              "0  http://www.flipkart.com/alisha-solid-women-s-c...   \n",
              "1  http://www.flipkart.com/fabhomedecor-fabric-do...   \n",
              "2  http://www.flipkart.com/aw-bellies/p/itmeh4grg...   \n",
              "3  http://www.flipkart.com/alisha-solid-women-s-c...   \n",
              "4  http://www.flipkart.com/sicons-all-purpose-arn...   \n",
              "\n",
              "                            product_name  \\\n",
              "0    Alisha Solid Women's Cycling Shorts   \n",
              "1    FabHomeDecor Fabric Double Sofa Bed   \n",
              "2                             AW Bellies   \n",
              "3    Alisha Solid Women's Cycling Shorts   \n",
              "4  Sicons All Purpose Arnica Dog Shampoo   \n",
              "\n",
              "                               product_category_tree               pid  \\\n",
              "0  [\"Clothing >> Women's Clothing >> Lingerie, Sl...  SRTEH2FF9KEDEFGF   \n",
              "1  [\"Furniture >> Living Room Furniture >> Sofa B...  SBEEH3QGU7MFYJFY   \n",
              "2  [\"Footwear >> Women's Footwear >> Ballerinas >...  SHOEH4GRSUBJGZXE   \n",
              "3  [\"Clothing >> Women's Clothing >> Lingerie, Sl...  SRTEH2F6HUZMQ6SJ   \n",
              "4  [\"Pet Supplies >> Grooming >> Skin & Coat Care...  PSOEH3ZYDMSYARJ5   \n",
              "\n",
              "   retail_price  discounted_price  \\\n",
              "0         999.0             379.0   \n",
              "1       32157.0           22646.0   \n",
              "2         999.0             499.0   \n",
              "3         699.0             267.0   \n",
              "4         220.0             210.0   \n",
              "\n",
              "                                               image  is_FK_Advantage_product  \\\n",
              "0  [\"http://img5a.flixcart.com/image/short/u/4/a/...                    False   \n",
              "1  [\"http://img6a.flixcart.com/image/sofa-bed/j/f...                    False   \n",
              "2  [\"http://img5a.flixcart.com/image/shoe/7/z/z/r...                    False   \n",
              "3  [\"http://img5a.flixcart.com/image/short/6/2/h/...                    False   \n",
              "4  [\"http://img5a.flixcart.com/image/pet-shampoo/...                    False   \n",
              "\n",
              "                                         description       product_rating  \\\n",
              "0  Key Features of Alisha Solid Women's Cycling S...  No rating available   \n",
              "1  FabHomeDecor Fabric Double Sofa Bed (Finish Co...  No rating available   \n",
              "2  Key Features of AW Bellies Sandals Wedges Heel...  No rating available   \n",
              "3  Key Features of Alisha Solid Women's Cycling S...  No rating available   \n",
              "4  Specifications of Sicons All Purpose Arnica Do...  No rating available   \n",
              "\n",
              "        overall_rating         brand  \\\n",
              "0  No rating available        Alisha   \n",
              "1  No rating available  FabHomeDecor   \n",
              "2  No rating available            AW   \n",
              "3  No rating available        Alisha   \n",
              "4  No rating available        Sicons   \n",
              "\n",
              "                              product_specifications  \n",
              "0  {\"product_specification\"=>[{\"key\"=>\"Number of ...  \n",
              "1  {\"product_specification\"=>[{\"key\"=>\"Installati...  \n",
              "2  {\"product_specification\"=>[{\"key\"=>\"Ideal For\"...  \n",
              "3  {\"product_specification\"=>[{\"key\"=>\"Number of ...  \n",
              "4  {\"product_specification\"=>[{\"key\"=>\"Pet Type\",...  "
            ],
            "text/html": [
              "\n",
              "  <div id=\"df-3e576135-4ed9-4a34-93d7-5fc9e0eefd5d\">\n",
              "    <div class=\"colab-df-container\">\n",
              "      <div>\n",
              "<style scoped>\n",
              "    .dataframe tbody tr th:only-of-type {\n",
              "        vertical-align: middle;\n",
              "    }\n",
              "\n",
              "    .dataframe tbody tr th {\n",
              "        vertical-align: top;\n",
              "    }\n",
              "\n",
              "    .dataframe thead th {\n",
              "        text-align: right;\n",
              "    }\n",
              "</style>\n",
              "<table border=\"1\" class=\"dataframe\">\n",
              "  <thead>\n",
              "    <tr style=\"text-align: right;\">\n",
              "      <th></th>\n",
              "      <th>uniq_id</th>\n",
              "      <th>crawl_timestamp</th>\n",
              "      <th>product_url</th>\n",
              "      <th>product_name</th>\n",
              "      <th>product_category_tree</th>\n",
              "      <th>pid</th>\n",
              "      <th>retail_price</th>\n",
              "      <th>discounted_price</th>\n",
              "      <th>image</th>\n",
              "      <th>is_FK_Advantage_product</th>\n",
              "      <th>description</th>\n",
              "      <th>product_rating</th>\n",
              "      <th>overall_rating</th>\n",
              "      <th>brand</th>\n",
              "      <th>product_specifications</th>\n",
              "    </tr>\n",
              "  </thead>\n",
              "  <tbody>\n",
              "    <tr>\n",
              "      <th>0</th>\n",
              "      <td>c2d766ca982eca8304150849735ffef9</td>\n",
              "      <td>2016-03-25 22:59:23 +0000</td>\n",
              "      <td>http://www.flipkart.com/alisha-solid-women-s-c...</td>\n",
              "      <td>Alisha Solid Women's Cycling Shorts</td>\n",
              "      <td>[\"Clothing &gt;&gt; Women's Clothing &gt;&gt; Lingerie, Sl...</td>\n",
              "      <td>SRTEH2FF9KEDEFGF</td>\n",
              "      <td>999.0</td>\n",
              "      <td>379.0</td>\n",
              "      <td>[\"http://img5a.flixcart.com/image/short/u/4/a/...</td>\n",
              "      <td>False</td>\n",
              "      <td>Key Features of Alisha Solid Women's Cycling S...</td>\n",
              "      <td>No rating available</td>\n",
              "      <td>No rating available</td>\n",
              "      <td>Alisha</td>\n",
              "      <td>{\"product_specification\"=&gt;[{\"key\"=&gt;\"Number of ...</td>\n",
              "    </tr>\n",
              "    <tr>\n",
              "      <th>1</th>\n",
              "      <td>7f7036a6d550aaa89d34c77bd39a5e48</td>\n",
              "      <td>2016-03-25 22:59:23 +0000</td>\n",
              "      <td>http://www.flipkart.com/fabhomedecor-fabric-do...</td>\n",
              "      <td>FabHomeDecor Fabric Double Sofa Bed</td>\n",
              "      <td>[\"Furniture &gt;&gt; Living Room Furniture &gt;&gt; Sofa B...</td>\n",
              "      <td>SBEEH3QGU7MFYJFY</td>\n",
              "      <td>32157.0</td>\n",
              "      <td>22646.0</td>\n",
              "      <td>[\"http://img6a.flixcart.com/image/sofa-bed/j/f...</td>\n",
              "      <td>False</td>\n",
              "      <td>FabHomeDecor Fabric Double Sofa Bed (Finish Co...</td>\n",
              "      <td>No rating available</td>\n",
              "      <td>No rating available</td>\n",
              "      <td>FabHomeDecor</td>\n",
              "      <td>{\"product_specification\"=&gt;[{\"key\"=&gt;\"Installati...</td>\n",
              "    </tr>\n",
              "    <tr>\n",
              "      <th>2</th>\n",
              "      <td>f449ec65dcbc041b6ae5e6a32717d01b</td>\n",
              "      <td>2016-03-25 22:59:23 +0000</td>\n",
              "      <td>http://www.flipkart.com/aw-bellies/p/itmeh4grg...</td>\n",
              "      <td>AW Bellies</td>\n",
              "      <td>[\"Footwear &gt;&gt; Women's Footwear &gt;&gt; Ballerinas &gt;...</td>\n",
              "      <td>SHOEH4GRSUBJGZXE</td>\n",
              "      <td>999.0</td>\n",
              "      <td>499.0</td>\n",
              "      <td>[\"http://img5a.flixcart.com/image/shoe/7/z/z/r...</td>\n",
              "      <td>False</td>\n",
              "      <td>Key Features of AW Bellies Sandals Wedges Heel...</td>\n",
              "      <td>No rating available</td>\n",
              "      <td>No rating available</td>\n",
              "      <td>AW</td>\n",
              "      <td>{\"product_specification\"=&gt;[{\"key\"=&gt;\"Ideal For\"...</td>\n",
              "    </tr>\n",
              "    <tr>\n",
              "      <th>3</th>\n",
              "      <td>0973b37acd0c664e3de26e97e5571454</td>\n",
              "      <td>2016-03-25 22:59:23 +0000</td>\n",
              "      <td>http://www.flipkart.com/alisha-solid-women-s-c...</td>\n",
              "      <td>Alisha Solid Women's Cycling Shorts</td>\n",
              "      <td>[\"Clothing &gt;&gt; Women's Clothing &gt;&gt; Lingerie, Sl...</td>\n",
              "      <td>SRTEH2F6HUZMQ6SJ</td>\n",
              "      <td>699.0</td>\n",
              "      <td>267.0</td>\n",
              "      <td>[\"http://img5a.flixcart.com/image/short/6/2/h/...</td>\n",
              "      <td>False</td>\n",
              "      <td>Key Features of Alisha Solid Women's Cycling S...</td>\n",
              "      <td>No rating available</td>\n",
              "      <td>No rating available</td>\n",
              "      <td>Alisha</td>\n",
              "      <td>{\"product_specification\"=&gt;[{\"key\"=&gt;\"Number of ...</td>\n",
              "    </tr>\n",
              "    <tr>\n",
              "      <th>4</th>\n",
              "      <td>bc940ea42ee6bef5ac7cea3fb5cfbee7</td>\n",
              "      <td>2016-03-25 22:59:23 +0000</td>\n",
              "      <td>http://www.flipkart.com/sicons-all-purpose-arn...</td>\n",
              "      <td>Sicons All Purpose Arnica Dog Shampoo</td>\n",
              "      <td>[\"Pet Supplies &gt;&gt; Grooming &gt;&gt; Skin &amp; Coat Care...</td>\n",
              "      <td>PSOEH3ZYDMSYARJ5</td>\n",
              "      <td>220.0</td>\n",
              "      <td>210.0</td>\n",
              "      <td>[\"http://img5a.flixcart.com/image/pet-shampoo/...</td>\n",
              "      <td>False</td>\n",
              "      <td>Specifications of Sicons All Purpose Arnica Do...</td>\n",
              "      <td>No rating available</td>\n",
              "      <td>No rating available</td>\n",
              "      <td>Sicons</td>\n",
              "      <td>{\"product_specification\"=&gt;[{\"key\"=&gt;\"Pet Type\",...</td>\n",
              "    </tr>\n",
              "  </tbody>\n",
              "</table>\n",
              "</div>\n",
              "      <button class=\"colab-df-convert\" onclick=\"convertToInteractive('df-3e576135-4ed9-4a34-93d7-5fc9e0eefd5d')\"\n",
              "              title=\"Convert this dataframe to an interactive table.\"\n",
              "              style=\"display:none;\">\n",
              "        \n",
              "  <svg xmlns=\"http://www.w3.org/2000/svg\" height=\"24px\"viewBox=\"0 0 24 24\"\n",
              "       width=\"24px\">\n",
              "    <path d=\"M0 0h24v24H0V0z\" fill=\"none\"/>\n",
              "    <path d=\"M18.56 5.44l.94 2.06.94-2.06 2.06-.94-2.06-.94-.94-2.06-.94 2.06-2.06.94zm-11 1L8.5 8.5l.94-2.06 2.06-.94-2.06-.94L8.5 2.5l-.94 2.06-2.06.94zm10 10l.94 2.06.94-2.06 2.06-.94-2.06-.94-.94-2.06-.94 2.06-2.06.94z\"/><path d=\"M17.41 7.96l-1.37-1.37c-.4-.4-.92-.59-1.43-.59-.52 0-1.04.2-1.43.59L10.3 9.45l-7.72 7.72c-.78.78-.78 2.05 0 2.83L4 21.41c.39.39.9.59 1.41.59.51 0 1.02-.2 1.41-.59l7.78-7.78 2.81-2.81c.8-.78.8-2.07 0-2.86zM5.41 20L4 18.59l7.72-7.72 1.47 1.35L5.41 20z\"/>\n",
              "  </svg>\n",
              "      </button>\n",
              "      \n",
              "  <style>\n",
              "    .colab-df-container {\n",
              "      display:flex;\n",
              "      flex-wrap:wrap;\n",
              "      gap: 12px;\n",
              "    }\n",
              "\n",
              "    .colab-df-convert {\n",
              "      background-color: #E8F0FE;\n",
              "      border: none;\n",
              "      border-radius: 50%;\n",
              "      cursor: pointer;\n",
              "      display: none;\n",
              "      fill: #1967D2;\n",
              "      height: 32px;\n",
              "      padding: 0 0 0 0;\n",
              "      width: 32px;\n",
              "    }\n",
              "\n",
              "    .colab-df-convert:hover {\n",
              "      background-color: #E2EBFA;\n",
              "      box-shadow: 0px 1px 2px rgba(60, 64, 67, 0.3), 0px 1px 3px 1px rgba(60, 64, 67, 0.15);\n",
              "      fill: #174EA6;\n",
              "    }\n",
              "\n",
              "    [theme=dark] .colab-df-convert {\n",
              "      background-color: #3B4455;\n",
              "      fill: #D2E3FC;\n",
              "    }\n",
              "\n",
              "    [theme=dark] .colab-df-convert:hover {\n",
              "      background-color: #434B5C;\n",
              "      box-shadow: 0px 1px 3px 1px rgba(0, 0, 0, 0.15);\n",
              "      filter: drop-shadow(0px 1px 2px rgba(0, 0, 0, 0.3));\n",
              "      fill: #FFFFFF;\n",
              "    }\n",
              "  </style>\n",
              "\n",
              "      <script>\n",
              "        const buttonEl =\n",
              "          document.querySelector('#df-3e576135-4ed9-4a34-93d7-5fc9e0eefd5d button.colab-df-convert');\n",
              "        buttonEl.style.display =\n",
              "          google.colab.kernel.accessAllowed ? 'block' : 'none';\n",
              "\n",
              "        async function convertToInteractive(key) {\n",
              "          const element = document.querySelector('#df-3e576135-4ed9-4a34-93d7-5fc9e0eefd5d');\n",
              "          const dataTable =\n",
              "            await google.colab.kernel.invokeFunction('convertToInteractive',\n",
              "                                                     [key], {});\n",
              "          if (!dataTable) return;\n",
              "\n",
              "          const docLinkHtml = 'Like what you see? Visit the ' +\n",
              "            '<a target=\"_blank\" href=https://colab.research.google.com/notebooks/data_table.ipynb>data table notebook</a>'\n",
              "            + ' to learn more about interactive tables.';\n",
              "          element.innerHTML = '';\n",
              "          dataTable['output_type'] = 'display_data';\n",
              "          await google.colab.output.renderOutput(dataTable, element);\n",
              "          const docLink = document.createElement('div');\n",
              "          docLink.innerHTML = docLinkHtml;\n",
              "          element.appendChild(docLink);\n",
              "        }\n",
              "      </script>\n",
              "    </div>\n",
              "  </div>\n",
              "  "
            ]
          },
          "metadata": {},
          "execution_count": 10
        }
      ]
    },
    {
      "cell_type": "code",
      "source": [
        "amz.head()"
      ],
      "metadata": {
        "colab": {
          "base_uri": "https://localhost:8080/",
          "height": 531
        },
        "id": "stLOpmE3lCun",
        "outputId": "cf4606c2-edfc-47a2-92d8-7cf602cb8fa8"
      },
      "execution_count": 11,
      "outputs": [
        {
          "output_type": "execute_result",
          "data": {
            "text/plain": [
              "                            uniq_id            crawl_timestamp  \\\n",
              "0  c2d766ca982eca8304150849735ffef9  2016-03-25 22:59:23 +0000   \n",
              "1  7f7036a6d550aaa89d34c77bd39a5e48  2016-03-25 22:59:23 +0000   \n",
              "2  f449ec65dcbc041b6ae5e6a32717d01b  2016-03-25 22:59:23 +0000   \n",
              "3  0973b37acd0c664e3de26e97e5571454  2016-03-25 22:59:23 +0000   \n",
              "4  bc940ea42ee6bef5ac7cea3fb5cfbee7  2016-03-25 22:59:23 +0000   \n",
              "\n",
              "                                         product_url  \\\n",
              "0  http://www.flipkart.com/alisha-solid-women-s-c...   \n",
              "1  http://www.flipkart.com/fabhomedecor-fabric-do...   \n",
              "2  http://www.flipkart.com/aw-bellies/p/itmeh4grg...   \n",
              "3  http://www.flipkart.com/alisha-solid-women-s-c...   \n",
              "4  http://www.flipkart.com/sicons-all-purpose-arn...   \n",
              "\n",
              "                            product_name  \\\n",
              "0    Alisha Solid Women's Cycling Shorts   \n",
              "1    FabHomeDecor Fabric Double Sofa Bed   \n",
              "2                             AW Bellies   \n",
              "3    Alisha Solid Women's Cycling Shorts   \n",
              "4  Sicons All Purpose Arnica Dog Shampoo   \n",
              "\n",
              "                               product_category_tree               pid  \\\n",
              "0  [\"Clothing >> Women's Clothing >> Lingerie, Sl...  SRTEH2FF9KEDEFGF   \n",
              "1  [\"Furniture >> Living Room Furniture >> Sofa B...  SBEEH3QGU7MFYJFY   \n",
              "2  [\"Footwear >> Women's Footwear >> Ballerinas >...  SHOEH4GRSUBJGZXE   \n",
              "3  [\"Clothing >> Women's Clothing >> Lingerie, Sl...  SRTEH2F6HUZMQ6SJ   \n",
              "4  [\"Pet Supplies >> Grooming >> Skin & Coat Care...  PSOEH3ZYDMSYARJ5   \n",
              "\n",
              "   retail_price  discounted_price  \\\n",
              "0           982               438   \n",
              "1         32143             29121   \n",
              "2           991               551   \n",
              "3           694               325   \n",
              "4           208               258   \n",
              "\n",
              "                                               image  is_FK_Advantage_product  \\\n",
              "0  [\"http://img5a.flixcart.com/image/short/u/4/a/...                    False   \n",
              "1  [\"http://img6a.flixcart.com/image/sofa-bed/j/f...                    False   \n",
              "2  [\"http://img5a.flixcart.com/image/shoe/7/z/z/r...                    False   \n",
              "3  [\"http://img5a.flixcart.com/image/short/6/2/h/...                    False   \n",
              "4  [\"http://img5a.flixcart.com/image/pet-shampoo/...                    False   \n",
              "\n",
              "                                         description       product_rating  \\\n",
              "0  Key Features of Alisha Solid Women's Cycling S...  No rating available   \n",
              "1  FabHomeDecor Fabric Double Sofa Bed (Finish Co...  No rating available   \n",
              "2  Key Features of AW Bellies Sandals Wedges Heel...  No rating available   \n",
              "3  Key Features of Alisha Solid Women's Cycling S...  No rating available   \n",
              "4  Specifications of Sicons All Purpose Arnica Do...  No rating available   \n",
              "\n",
              "        overall_rating         brand  \\\n",
              "0  No rating available        Alisha   \n",
              "1  No rating available  FabHomeDecor   \n",
              "2  No rating available            AW   \n",
              "3  No rating available        Alisha   \n",
              "4  No rating available        Sicons   \n",
              "\n",
              "                              product_specifications  \n",
              "0  {\"product_specification\"=>[{\"key\"=>\"Number of ...  \n",
              "1  {\"product_specification\"=>[{\"key\"=>\"Installati...  \n",
              "2  {\"product_specification\"=>[{\"key\"=>\"Ideal For\"...  \n",
              "3  {\"product_specification\"=>[{\"key\"=>\"Number of ...  \n",
              "4  {\"product_specification\"=>[{\"key\"=>\"Pet Type\",...  "
            ],
            "text/html": [
              "\n",
              "  <div id=\"df-00d372b7-5e24-475e-9ee7-18b206fac216\">\n",
              "    <div class=\"colab-df-container\">\n",
              "      <div>\n",
              "<style scoped>\n",
              "    .dataframe tbody tr th:only-of-type {\n",
              "        vertical-align: middle;\n",
              "    }\n",
              "\n",
              "    .dataframe tbody tr th {\n",
              "        vertical-align: top;\n",
              "    }\n",
              "\n",
              "    .dataframe thead th {\n",
              "        text-align: right;\n",
              "    }\n",
              "</style>\n",
              "<table border=\"1\" class=\"dataframe\">\n",
              "  <thead>\n",
              "    <tr style=\"text-align: right;\">\n",
              "      <th></th>\n",
              "      <th>uniq_id</th>\n",
              "      <th>crawl_timestamp</th>\n",
              "      <th>product_url</th>\n",
              "      <th>product_name</th>\n",
              "      <th>product_category_tree</th>\n",
              "      <th>pid</th>\n",
              "      <th>retail_price</th>\n",
              "      <th>discounted_price</th>\n",
              "      <th>image</th>\n",
              "      <th>is_FK_Advantage_product</th>\n",
              "      <th>description</th>\n",
              "      <th>product_rating</th>\n",
              "      <th>overall_rating</th>\n",
              "      <th>brand</th>\n",
              "      <th>product_specifications</th>\n",
              "    </tr>\n",
              "  </thead>\n",
              "  <tbody>\n",
              "    <tr>\n",
              "      <th>0</th>\n",
              "      <td>c2d766ca982eca8304150849735ffef9</td>\n",
              "      <td>2016-03-25 22:59:23 +0000</td>\n",
              "      <td>http://www.flipkart.com/alisha-solid-women-s-c...</td>\n",
              "      <td>Alisha Solid Women's Cycling Shorts</td>\n",
              "      <td>[\"Clothing &gt;&gt; Women's Clothing &gt;&gt; Lingerie, Sl...</td>\n",
              "      <td>SRTEH2FF9KEDEFGF</td>\n",
              "      <td>982</td>\n",
              "      <td>438</td>\n",
              "      <td>[\"http://img5a.flixcart.com/image/short/u/4/a/...</td>\n",
              "      <td>False</td>\n",
              "      <td>Key Features of Alisha Solid Women's Cycling S...</td>\n",
              "      <td>No rating available</td>\n",
              "      <td>No rating available</td>\n",
              "      <td>Alisha</td>\n",
              "      <td>{\"product_specification\"=&gt;[{\"key\"=&gt;\"Number of ...</td>\n",
              "    </tr>\n",
              "    <tr>\n",
              "      <th>1</th>\n",
              "      <td>7f7036a6d550aaa89d34c77bd39a5e48</td>\n",
              "      <td>2016-03-25 22:59:23 +0000</td>\n",
              "      <td>http://www.flipkart.com/fabhomedecor-fabric-do...</td>\n",
              "      <td>FabHomeDecor Fabric Double Sofa Bed</td>\n",
              "      <td>[\"Furniture &gt;&gt; Living Room Furniture &gt;&gt; Sofa B...</td>\n",
              "      <td>SBEEH3QGU7MFYJFY</td>\n",
              "      <td>32143</td>\n",
              "      <td>29121</td>\n",
              "      <td>[\"http://img6a.flixcart.com/image/sofa-bed/j/f...</td>\n",
              "      <td>False</td>\n",
              "      <td>FabHomeDecor Fabric Double Sofa Bed (Finish Co...</td>\n",
              "      <td>No rating available</td>\n",
              "      <td>No rating available</td>\n",
              "      <td>FabHomeDecor</td>\n",
              "      <td>{\"product_specification\"=&gt;[{\"key\"=&gt;\"Installati...</td>\n",
              "    </tr>\n",
              "    <tr>\n",
              "      <th>2</th>\n",
              "      <td>f449ec65dcbc041b6ae5e6a32717d01b</td>\n",
              "      <td>2016-03-25 22:59:23 +0000</td>\n",
              "      <td>http://www.flipkart.com/aw-bellies/p/itmeh4grg...</td>\n",
              "      <td>AW Bellies</td>\n",
              "      <td>[\"Footwear &gt;&gt; Women's Footwear &gt;&gt; Ballerinas &gt;...</td>\n",
              "      <td>SHOEH4GRSUBJGZXE</td>\n",
              "      <td>991</td>\n",
              "      <td>551</td>\n",
              "      <td>[\"http://img5a.flixcart.com/image/shoe/7/z/z/r...</td>\n",
              "      <td>False</td>\n",
              "      <td>Key Features of AW Bellies Sandals Wedges Heel...</td>\n",
              "      <td>No rating available</td>\n",
              "      <td>No rating available</td>\n",
              "      <td>AW</td>\n",
              "      <td>{\"product_specification\"=&gt;[{\"key\"=&gt;\"Ideal For\"...</td>\n",
              "    </tr>\n",
              "    <tr>\n",
              "      <th>3</th>\n",
              "      <td>0973b37acd0c664e3de26e97e5571454</td>\n",
              "      <td>2016-03-25 22:59:23 +0000</td>\n",
              "      <td>http://www.flipkart.com/alisha-solid-women-s-c...</td>\n",
              "      <td>Alisha Solid Women's Cycling Shorts</td>\n",
              "      <td>[\"Clothing &gt;&gt; Women's Clothing &gt;&gt; Lingerie, Sl...</td>\n",
              "      <td>SRTEH2F6HUZMQ6SJ</td>\n",
              "      <td>694</td>\n",
              "      <td>325</td>\n",
              "      <td>[\"http://img5a.flixcart.com/image/short/6/2/h/...</td>\n",
              "      <td>False</td>\n",
              "      <td>Key Features of Alisha Solid Women's Cycling S...</td>\n",
              "      <td>No rating available</td>\n",
              "      <td>No rating available</td>\n",
              "      <td>Alisha</td>\n",
              "      <td>{\"product_specification\"=&gt;[{\"key\"=&gt;\"Number of ...</td>\n",
              "    </tr>\n",
              "    <tr>\n",
              "      <th>4</th>\n",
              "      <td>bc940ea42ee6bef5ac7cea3fb5cfbee7</td>\n",
              "      <td>2016-03-25 22:59:23 +0000</td>\n",
              "      <td>http://www.flipkart.com/sicons-all-purpose-arn...</td>\n",
              "      <td>Sicons All Purpose Arnica Dog Shampoo</td>\n",
              "      <td>[\"Pet Supplies &gt;&gt; Grooming &gt;&gt; Skin &amp; Coat Care...</td>\n",
              "      <td>PSOEH3ZYDMSYARJ5</td>\n",
              "      <td>208</td>\n",
              "      <td>258</td>\n",
              "      <td>[\"http://img5a.flixcart.com/image/pet-shampoo/...</td>\n",
              "      <td>False</td>\n",
              "      <td>Specifications of Sicons All Purpose Arnica Do...</td>\n",
              "      <td>No rating available</td>\n",
              "      <td>No rating available</td>\n",
              "      <td>Sicons</td>\n",
              "      <td>{\"product_specification\"=&gt;[{\"key\"=&gt;\"Pet Type\",...</td>\n",
              "    </tr>\n",
              "  </tbody>\n",
              "</table>\n",
              "</div>\n",
              "      <button class=\"colab-df-convert\" onclick=\"convertToInteractive('df-00d372b7-5e24-475e-9ee7-18b206fac216')\"\n",
              "              title=\"Convert this dataframe to an interactive table.\"\n",
              "              style=\"display:none;\">\n",
              "        \n",
              "  <svg xmlns=\"http://www.w3.org/2000/svg\" height=\"24px\"viewBox=\"0 0 24 24\"\n",
              "       width=\"24px\">\n",
              "    <path d=\"M0 0h24v24H0V0z\" fill=\"none\"/>\n",
              "    <path d=\"M18.56 5.44l.94 2.06.94-2.06 2.06-.94-2.06-.94-.94-2.06-.94 2.06-2.06.94zm-11 1L8.5 8.5l.94-2.06 2.06-.94-2.06-.94L8.5 2.5l-.94 2.06-2.06.94zm10 10l.94 2.06.94-2.06 2.06-.94-2.06-.94-.94-2.06-.94 2.06-2.06.94z\"/><path d=\"M17.41 7.96l-1.37-1.37c-.4-.4-.92-.59-1.43-.59-.52 0-1.04.2-1.43.59L10.3 9.45l-7.72 7.72c-.78.78-.78 2.05 0 2.83L4 21.41c.39.39.9.59 1.41.59.51 0 1.02-.2 1.41-.59l7.78-7.78 2.81-2.81c.8-.78.8-2.07 0-2.86zM5.41 20L4 18.59l7.72-7.72 1.47 1.35L5.41 20z\"/>\n",
              "  </svg>\n",
              "      </button>\n",
              "      \n",
              "  <style>\n",
              "    .colab-df-container {\n",
              "      display:flex;\n",
              "      flex-wrap:wrap;\n",
              "      gap: 12px;\n",
              "    }\n",
              "\n",
              "    .colab-df-convert {\n",
              "      background-color: #E8F0FE;\n",
              "      border: none;\n",
              "      border-radius: 50%;\n",
              "      cursor: pointer;\n",
              "      display: none;\n",
              "      fill: #1967D2;\n",
              "      height: 32px;\n",
              "      padding: 0 0 0 0;\n",
              "      width: 32px;\n",
              "    }\n",
              "\n",
              "    .colab-df-convert:hover {\n",
              "      background-color: #E2EBFA;\n",
              "      box-shadow: 0px 1px 2px rgba(60, 64, 67, 0.3), 0px 1px 3px 1px rgba(60, 64, 67, 0.15);\n",
              "      fill: #174EA6;\n",
              "    }\n",
              "\n",
              "    [theme=dark] .colab-df-convert {\n",
              "      background-color: #3B4455;\n",
              "      fill: #D2E3FC;\n",
              "    }\n",
              "\n",
              "    [theme=dark] .colab-df-convert:hover {\n",
              "      background-color: #434B5C;\n",
              "      box-shadow: 0px 1px 3px 1px rgba(0, 0, 0, 0.15);\n",
              "      filter: drop-shadow(0px 1px 2px rgba(0, 0, 0, 0.3));\n",
              "      fill: #FFFFFF;\n",
              "    }\n",
              "  </style>\n",
              "\n",
              "      <script>\n",
              "        const buttonEl =\n",
              "          document.querySelector('#df-00d372b7-5e24-475e-9ee7-18b206fac216 button.colab-df-convert');\n",
              "        buttonEl.style.display =\n",
              "          google.colab.kernel.accessAllowed ? 'block' : 'none';\n",
              "\n",
              "        async function convertToInteractive(key) {\n",
              "          const element = document.querySelector('#df-00d372b7-5e24-475e-9ee7-18b206fac216');\n",
              "          const dataTable =\n",
              "            await google.colab.kernel.invokeFunction('convertToInteractive',\n",
              "                                                     [key], {});\n",
              "          if (!dataTable) return;\n",
              "\n",
              "          const docLinkHtml = 'Like what you see? Visit the ' +\n",
              "            '<a target=\"_blank\" href=https://colab.research.google.com/notebooks/data_table.ipynb>data table notebook</a>'\n",
              "            + ' to learn more about interactive tables.';\n",
              "          element.innerHTML = '';\n",
              "          dataTable['output_type'] = 'display_data';\n",
              "          await google.colab.output.renderOutput(dataTable, element);\n",
              "          const docLink = document.createElement('div');\n",
              "          docLink.innerHTML = docLinkHtml;\n",
              "          element.appendChild(docLink);\n",
              "        }\n",
              "      </script>\n",
              "    </div>\n",
              "  </div>\n",
              "  "
            ]
          },
          "metadata": {},
          "execution_count": 11
        }
      ]
    },
    {
      "cell_type": "code",
      "source": [
        "print(flp.shape,amz.shape)"
      ],
      "metadata": {
        "colab": {
          "base_uri": "https://localhost:8080/"
        },
        "id": "P9wgDoqw4Gr6",
        "outputId": "ff037ffa-c490-46da-c6cc-3673661296ad"
      },
      "execution_count": 16,
      "outputs": [
        {
          "output_type": "stream",
          "name": "stdout",
          "text": [
            "(20000, 15) (20000, 15)\n"
          ]
        }
      ]
    },
    {
      "cell_type": "code",
      "source": [
        "print(flp.columns)\n",
        "print(amz.columns)"
      ],
      "metadata": {
        "colab": {
          "base_uri": "https://localhost:8080/"
        },
        "id": "SqZYubfmoXhW",
        "outputId": "bb559f6c-aade-4435-c079-a54e701730c1"
      },
      "execution_count": 12,
      "outputs": [
        {
          "output_type": "stream",
          "name": "stdout",
          "text": [
            "Index(['uniq_id', 'crawl_timestamp', 'product_url', 'product_name',\n",
            "       'product_category_tree', 'pid', 'retail_price', 'discounted_price',\n",
            "       'image', 'is_FK_Advantage_product', 'description', 'product_rating',\n",
            "       'overall_rating', 'brand', 'product_specifications'],\n",
            "      dtype='object')\n",
            "Index(['uniq_id', 'crawl_timestamp', 'product_url', 'product_name',\n",
            "       'product_category_tree', 'pid', 'retail_price', 'discounted_price',\n",
            "       'image', 'is_FK_Advantage_product', 'description', 'product_rating',\n",
            "       'overall_rating', 'brand', 'product_specifications'],\n",
            "      dtype='object')\n"
          ]
        }
      ]
    },
    {
      "cell_type": "code",
      "source": [
        "flp.info()"
      ],
      "metadata": {
        "colab": {
          "base_uri": "https://localhost:8080/"
        },
        "id": "6RiM3hvQ5KKV",
        "outputId": "fa2f234c-5c1f-4dd0-e6b0-0ca26ea06e66"
      },
      "execution_count": 37,
      "outputs": [
        {
          "output_type": "stream",
          "name": "stdout",
          "text": [
            "<class 'pandas.core.frame.DataFrame'>\n",
            "RangeIndex: 20000 entries, 0 to 19999\n",
            "Data columns (total 15 columns):\n",
            " #   Column                   Non-Null Count  Dtype  \n",
            "---  ------                   --------------  -----  \n",
            " 0   uniq_id                  20000 non-null  object \n",
            " 1   crawl_timestamp          20000 non-null  object \n",
            " 2   product_url              20000 non-null  object \n",
            " 3   product_name             20000 non-null  object \n",
            " 4   product_category_tree    20000 non-null  object \n",
            " 5   pid                      20000 non-null  object \n",
            " 6   retail_price             19922 non-null  float64\n",
            " 7   discounted_price         19922 non-null  float64\n",
            " 8   image                    19997 non-null  object \n",
            " 9   is_FK_Advantage_product  20000 non-null  bool   \n",
            " 10  description              19998 non-null  object \n",
            " 11  product_rating           20000 non-null  object \n",
            " 12  overall_rating           20000 non-null  object \n",
            " 13  brand                    14136 non-null  object \n",
            " 14  product_specifications   19986 non-null  object \n",
            "dtypes: bool(1), float64(2), object(12)\n",
            "memory usage: 2.2+ MB\n"
          ]
        }
      ]
    },
    {
      "cell_type": "code",
      "source": [
        "amz.info()"
      ],
      "metadata": {
        "colab": {
          "base_uri": "https://localhost:8080/"
        },
        "id": "H0gyxEmx6zxU",
        "outputId": "a26b2ca4-ccc9-42a7-d9e0-b37d24d6dd1e"
      },
      "execution_count": 41,
      "outputs": [
        {
          "output_type": "stream",
          "name": "stdout",
          "text": [
            "<class 'pandas.core.frame.DataFrame'>\n",
            "RangeIndex: 20000 entries, 0 to 19999\n",
            "Data columns (total 15 columns):\n",
            " #   Column                   Non-Null Count  Dtype \n",
            "---  ------                   --------------  ----- \n",
            " 0   uniq_id                  20000 non-null  object\n",
            " 1   crawl_timestamp          20000 non-null  object\n",
            " 2   product_url              20000 non-null  object\n",
            " 3   product_name             20000 non-null  object\n",
            " 4   product_category_tree    20000 non-null  object\n",
            " 5   pid                      20000 non-null  object\n",
            " 6   retail_price             20000 non-null  int64 \n",
            " 7   discounted_price         20000 non-null  int64 \n",
            " 8   image                    19997 non-null  object\n",
            " 9   is_FK_Advantage_product  20000 non-null  bool  \n",
            " 10  description              19998 non-null  object\n",
            " 11  product_rating           20000 non-null  object\n",
            " 12  overall_rating           20000 non-null  object\n",
            " 13  brand                    14136 non-null  object\n",
            " 14  product_specifications   19986 non-null  object\n",
            "dtypes: bool(1), int64(2), object(12)\n",
            "memory usage: 2.2+ MB\n"
          ]
        }
      ]
    },
    {
      "cell_type": "code",
      "source": [
        "# we will remove the rows that have missing brand\n",
        "flp_new=flp.loc[flp['brand'].notnull()]\n",
        "amz_new=amz.loc[amz['brand'].notnull()]\n",
        "print(flp_new.shape,\n",
        "amz_new.shape)"
      ],
      "metadata": {
        "colab": {
          "base_uri": "https://localhost:8080/"
        },
        "id": "Hp14ETDM5UpF",
        "outputId": "757a364e-e3f6-478d-bbc9-dddd20b16488"
      },
      "execution_count": 44,
      "outputs": [
        {
          "output_type": "stream",
          "name": "stdout",
          "text": [
            "(14136, 15) (14136, 15)\n"
          ]
        }
      ]
    },
    {
      "cell_type": "code",
      "source": [
        "#vectorizing brand name\n",
        "vectorizer=TfidfVectorizer()\n",
        "vectorizer.fit(pd.concat([flp_new['brand'],amz_new['brand']]))\n",
        "flp_brand_vect=vectorizer.transform(flp_new['brand'])\n",
        "amz_brand_vect=vectorizer.transform(amz_new['brand'])"
      ],
      "metadata": {
        "id": "dq75P-G-03tx"
      },
      "execution_count": 50,
      "outputs": []
    },
    {
      "cell_type": "code",
      "source": [
        "print(flp_brand_vect.shape)\n",
        "print(amz_brand_vect.shape)"
      ],
      "metadata": {
        "colab": {
          "base_uri": "https://localhost:8080/"
        },
        "id": "5gSbFljBYixx",
        "outputId": "e61f9f08-0f62-441e-fd42-48ad70c88aa6"
      },
      "execution_count": 51,
      "outputs": [
        {
          "output_type": "stream",
          "name": "stdout",
          "text": [
            "(14136, 3595)\n",
            "(14136, 3595)\n"
          ]
        }
      ]
    },
    {
      "cell_type": "code",
      "source": [
        "#vectorizing product name\n",
        "vectorizer=TfidfVectorizer()\n",
        "vectorizer.fit(pd.concat([flp_new['product_name'],amz_new['product_name']]))\n",
        "flp_product_vect=vectorizer.transform(flp_new['product_name'])\n",
        "amz_product_vect=vectorizer.transform(amz_new['product_name'])"
      ],
      "metadata": {
        "id": "eopu80mCY4Ud"
      },
      "execution_count": 52,
      "outputs": []
    },
    {
      "cell_type": "code",
      "source": [
        "print(flp_product_vect.shape,amz_product_vect.shape)"
      ],
      "metadata": {
        "colab": {
          "base_uri": "https://localhost:8080/"
        },
        "id": "549cS5dLZHdr",
        "outputId": "2188e1f6-7cac-4fc9-c666-fcaec41c66e6"
      },
      "execution_count": 53,
      "outputs": [
        {
          "output_type": "stream",
          "name": "stdout",
          "text": [
            "(14136, 9854) (14136, 9854)\n"
          ]
        }
      ]
    },
    {
      "cell_type": "code",
      "source": [
        "flp_vect=np.hstack([flp_brand_vect.toarray(),flp_product_vect.toarray()])\n",
        "amz_vect=np.hstack([amz_brand_vect.toarray(),amz_product_vect.toarray()])\n",
        "print(flp_vect.shape,amz_vect.shape)"
      ],
      "metadata": {
        "colab": {
          "base_uri": "https://localhost:8080/"
        },
        "id": "j6n1aAG0bBEj",
        "outputId": "e6ee9167-4c6f-4313-fda8-7688492ef67c"
      },
      "execution_count": 55,
      "outputs": [
        {
          "output_type": "stream",
          "name": "stdout",
          "text": [
            "(14136, 13449) (14136, 13449)\n"
          ]
        }
      ]
    },
    {
      "cell_type": "code",
      "source": [
        "cosine_sim=cosine_similarity(flp_vect,amz_vect)\n",
        "print(cosine_sim)"
      ],
      "metadata": {
        "colab": {
          "base_uri": "https://localhost:8080/"
        },
        "id": "bmx9InG-b9XW",
        "outputId": "61b5665a-dc80-48c5-8b11-d3b96ae7baf4"
      },
      "execution_count": 60,
      "outputs": [
        {
          "output_type": "stream",
          "name": "stdout",
          "text": [
            "[[1. 0. 0. ... 0. 0. 0.]\n",
            " [0. 1. 0. ... 0. 0. 0.]\n",
            " [0. 0. 1. ... 0. 0. 0.]\n",
            " ...\n",
            " [0. 0. 0. ... 1. 1. 1.]\n",
            " [0. 0. 0. ... 1. 1. 1.]\n",
            " [0. 0. 0. ... 1. 1. 1.]]\n"
          ]
        }
      ]
    },
    {
      "cell_type": "code",
      "source": [
        "def similar_product(flipkart_product_name,sim_matrix,flipkart_dataset,amazon_dataset):\n",
        "  name=flipkart_product_name\n",
        "  flp_index=flipkart_dataset.loc[flipkart_dataset['product_name']==name].index[0]  #getting the index of row where product name matches in amazon datset\n",
        "  amz_index=np.argmax(sim_matrix[flp_index])                                       #getting the index of row where product name matches in amazon dataset\n",
        "  print('Product name in Flipkart :',flipkart_dataset.iloc[flp_index]['product_name'])\n",
        "  print('Retail Price in Flipkart :',flipkart_dataset.iloc[flp_index]['retail_price'])\n",
        "  print('Discounted Price in Flipkart :',flipkart_dataset.iloc[flp_index]['discounted_price'])\n",
        "  print('-*-*-*-*-*-*-*-*-*-*-*-*-*-*-*-*-*-*-*-*-*-*-*-*-*-*-*-*-*-*-*-*-*-*-*-*-*-*-*-*-*-*-*-*-*-*-*-*-*-*-*-*-*-*-*-*-*-*-*-*-*-*-*-*-*-*-*-*-*-*-*')\n",
        "  print('Product name in Amazon :',amazon_dataset.iloc[amz_index]['product_name'])\n",
        "  print('Retail Price in Amazon :',amazon_dataset.iloc[amz_index]['retail_price'])\n",
        "  print('Discounted Price in Amazon :',amazon_dataset.iloc[amz_index]['discounted_price'])"
      ],
      "metadata": {
        "id": "9-g08GWzgmzv"
      },
      "execution_count": 94,
      "outputs": []
    },
    {
      "cell_type": "code",
      "source": [
        "flp_new.reset_index(inplace=True)\n",
        "amz_new.reset_index(inplace=True)"
      ],
      "metadata": {
        "id": "FR5u59Uuozvy"
      },
      "execution_count": 101,
      "outputs": []
    },
    {
      "cell_type": "code",
      "source": [
        "similar_product('Tenda TE-W368R',cosine_sim,flp_new,amz_new)"
      ],
      "metadata": {
        "colab": {
          "base_uri": "https://localhost:8080/"
        },
        "id": "EbRhh4mlhJPP",
        "outputId": "6a4507f3-7d23-4e13-ae34-13b4c867ff56"
      },
      "execution_count": 102,
      "outputs": [
        {
          "output_type": "stream",
          "name": "stdout",
          "text": [
            "Product name in Flipkart : Tenda TE-W368R\n",
            "Retail Price in Flipkart : 2200.0\n",
            "Discounted Price in Flipkart : 1546.0\n",
            "-*-*-*-*-*-*-*-*-*-*-*-*-*-*-*-*-*-*-*-*-*-*-*-*-*-*-*-*-*-*-*-*-*-*-*-*-*-*-*-*-*-*-*-*-*-*-*-*-*-*-*-*-*-*-*-*-*-*-*-*-*-*-*-*-*-*-*-*-*-*-*\n",
            "Product name in Amazon : Tenda TE-W368R\n",
            "Retail Price in Amazon : 2188\n",
            "Discounted Price in Amazon : 1988\n"
          ]
        }
      ]
    }
  ]
}